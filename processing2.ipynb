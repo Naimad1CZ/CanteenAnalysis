{
 "cells": [
  {
   "cell_type": "code",
   "execution_count": 1,
   "metadata": {
    "collapsed": true,
    "ExecuteTime": {
     "end_time": "2023-05-30T07:05:07.098954800Z",
     "start_time": "2023-05-30T07:05:04.837567300Z"
    }
   },
   "outputs": [],
   "source": [
    "import pandas as pd\n",
    "from collections import defaultdict\n",
    "import pickle"
   ]
  },
  {
   "cell_type": "code",
   "execution_count": 2,
   "outputs": [],
   "source": [
    "meal_statistics = pd.read_csv('data/mealstatistics.csv')\n",
    "meals_dataframe = pd.read_csv('data/meals.csv')\n",
    "meal_history = pd.read_csv('data/mealhistory_latest.csv')\n",
    "canteens = pd.read_csv('data/canteens.csv')"
   ],
   "metadata": {
    "collapsed": false,
    "ExecuteTime": {
     "end_time": "2023-05-30T07:05:07.250660500Z",
     "start_time": "2023-05-30T07:05:07.100090900Z"
    }
   }
  },
  {
   "cell_type": "code",
   "execution_count": 3,
   "outputs": [],
   "source": [
    "canteens_dict = dict()\n",
    "for idx, row in canteens.iterrows():\n",
    "    canteens_dict[row['id']] = row['name']"
   ],
   "metadata": {
    "collapsed": false,
    "ExecuteTime": {
     "end_time": "2023-05-30T07:05:07.275169400Z",
     "start_time": "2023-05-30T07:05:07.255034Z"
    }
   }
  },
  {
   "cell_type": "code",
   "execution_count": 4,
   "outputs": [],
   "source": [
    "weekday_dict = {0: 'Mondays', 1: 'Tuesdays', 2: 'Wednesdays', 3: 'Thursdays', 4: 'Fridays'}"
   ],
   "metadata": {
    "collapsed": false,
    "ExecuteTime": {
     "end_time": "2023-05-30T07:05:07.297953Z",
     "start_time": "2023-05-30T07:05:07.279283100Z"
    }
   }
  },
  {
   "cell_type": "code",
   "execution_count": 5,
   "outputs": [],
   "source": [
    "with open('data/meals_db_4', 'rb') as f:\n",
    "    meals_db = pickle.load(f)"
   ],
   "metadata": {
    "collapsed": false,
    "ExecuteTime": {
     "end_time": "2023-05-30T07:05:07.801809500Z",
     "start_time": "2023-05-30T07:05:07.285660900Z"
    }
   }
  },
  {
   "cell_type": "code",
   "execution_count": 6,
   "outputs": [],
   "source": [
    "meals_res = dict()\n",
    "for k, v in meals_db.items():\n",
    "    meals_res[k] = dict()\n",
    "    for day, meal in v.items():\n",
    "        if day >= '2022-10-01':\n",
    "            meals_res[k][day] = dict()\n",
    "            for it, l in meal.items():\n",
    "                meals_res[k][day][it] = dict()\n"
   ],
   "metadata": {
    "collapsed": false,
    "ExecuteTime": {
     "end_time": "2023-05-30T07:05:07.832346500Z",
     "start_time": "2023-05-30T07:05:07.808611500Z"
    }
   }
  },
  {
   "cell_type": "code",
   "execution_count": 7,
   "outputs": [
    {
     "name": "stdout",
     "output_type": "stream",
     "text": [
      "kkkkkkk"
     ]
    }
   ],
   "source": [
    "def check_start_and_end(l):\n",
    "    if len(l) == 0:\n",
    "        return\n",
    "    if (l[0][0].hour != 10 or l[0][0].minute != 30) or (l[-1][0].hour != 14 or l[-1][0].minute != 30):\n",
    "        print('oh no!')\n",
    "        print(l[0][0], l[-1][0])\n",
    "\n",
    "for k, v in meals_db.items():\n",
    "    for day, meal in v.items():\n",
    "        for it, l in meal.items():\n",
    "            check_start_and_end(l)\n",
    "    print('k', end='')\n"
   ],
   "metadata": {
    "collapsed": false,
    "ExecuteTime": {
     "end_time": "2023-05-30T07:05:07.927859700Z",
     "start_time": "2023-05-30T07:05:07.830733900Z"
    }
   }
  },
  {
   "cell_type": "code",
   "execution_count": 8,
   "outputs": [
    {
     "name": "stdout",
     "output_type": "stream",
     "text": [
      "k k k k k k k "
     ]
    }
   ],
   "source": [
    "# check if we have all data point for every day\n",
    "for k, v in meals_db.items():\n",
    "    for day, meal in v.items():\n",
    "        for it, l in meal.items():\n",
    "            if len(l) != 241 and len(l) != 0:\n",
    "                print('oh no!')\n",
    "                print(k, day, it, len(l))\n",
    "    print('k', end=' ')"
   ],
   "metadata": {
    "collapsed": false,
    "ExecuteTime": {
     "end_time": "2023-05-30T07:05:07.929455900Z",
     "start_time": "2023-05-30T07:05:07.858993900Z"
    }
   }
  },
  {
   "cell_type": "code",
   "execution_count": 9,
   "outputs": [
    {
     "name": "stdout",
     "output_type": "stream",
     "text": [
      "k k k k k k k "
     ]
    }
   ],
   "source": [
    "def find_total_served_meals(l):\n",
    "    if len(l) == 0:\n",
    "        return 0\n",
    "\n",
    "    # we have to ignore ordered meals that were before the canteen started\n",
    "    res = l[-1][2] - l[0][2]\n",
    "    if res < 0:\n",
    "        return 0\n",
    "    return res\n",
    "\n",
    "for k, v in meals_db.items():\n",
    "    for day, meals in v.items():\n",
    "        for idx, l in meals.items():\n",
    "            r = find_total_served_meals(l)\n",
    "            meals_res[k][day][idx]['served_meals'] = r\n",
    "    print('k', end=' ')"
   ],
   "metadata": {
    "collapsed": false,
    "ExecuteTime": {
     "end_time": "2023-05-30T07:05:07.941982Z",
     "start_time": "2023-05-30T07:05:07.881368Z"
    }
   }
  },
  {
   "cell_type": "code",
   "execution_count": 10,
   "outputs": [
    {
     "name": "stdout",
     "output_type": "stream",
     "text": [
      "k k k k k k k "
     ]
    }
   ],
   "source": [
    "def find_wasted_meals(l):\n",
    "    if len(l) == 0:\n",
    "        return 0\n",
    "    # only approximately, sometimes it's set to 0 but shouldn't\n",
    "    res = l[-1][1]\n",
    "    if res < 0:\n",
    "        return 0\n",
    "    return res\n",
    "\n",
    "def find_wasted_meals_alt(l):\n",
    "    if len(l) == 0:\n",
    "        return 0\n",
    "\n",
    "    # only approximately, sometimes it's set to 0 but shouldn't - we will search for the first amount that is not 0\n",
    "    i = len(l) - 1\n",
    "    while i >= 0 and l[i][1] <= 0:\n",
    "        i -= 1\n",
    "\n",
    "    if i < 0:\n",
    "        return 0\n",
    "\n",
    "    res = l[i][1] - 1\n",
    "    return res\n",
    "\n",
    "\n",
    "for k, v in meals_db.items():\n",
    "    for day, meals in v.items():\n",
    "        for idx, l in meals.items():\n",
    "            r = find_wasted_meals(l)\n",
    "            meals_res[k][day][idx]['wasted_meals'] = r\n",
    "            s = find_wasted_meals_alt(l)\n",
    "            meals_res[k][day][idx]['wasted_meals_alt'] = s\n",
    "    print('k', end=' ')"
   ],
   "metadata": {
    "collapsed": false,
    "ExecuteTime": {
     "end_time": "2023-05-30T07:05:08.059859300Z",
     "start_time": "2023-05-30T07:05:07.897451600Z"
    }
   }
  },
  {
   "cell_type": "code",
   "execution_count": 11,
   "outputs": [],
   "source": [
    "def get_sums_for_day(attribute):\n",
    "    res = dict()\n",
    "    for k, v in meals_res.items():\n",
    "        res[k] = dict()\n",
    "        for day, meals in v.items():\n",
    "            res[k][day] = 0\n",
    "            for idx, l in meals.items():\n",
    "                res[k][day] += l[attribute]\n",
    "    return res"
   ],
   "metadata": {
    "collapsed": false,
    "ExecuteTime": {
     "end_time": "2023-05-30T07:05:08.067079500Z",
     "start_time": "2023-05-30T07:05:07.968353900Z"
    }
   }
  },
  {
   "cell_type": "code",
   "execution_count": 12,
   "outputs": [],
   "source": [
    "from datetime import datetime\n",
    "def get_sums_for_weekday(attribute):\n",
    "    res = dict()\n",
    "    for k, v in meals_res.items():\n",
    "        res[k] = [0] * 5\n",
    "        for day, meals in v.items():\n",
    "            weekday = datetime.strptime(day, \"%Y-%m-%d\").weekday()\n",
    "            for idx, l in meals.items():\n",
    "                res[k][weekday] += l[attribute]\n",
    "    return res"
   ],
   "metadata": {
    "collapsed": false,
    "ExecuteTime": {
     "end_time": "2023-05-30T07:05:08.067079500Z",
     "start_time": "2023-05-30T07:05:07.983790Z"
    }
   }
  },
  {
   "cell_type": "code",
   "execution_count": 13,
   "outputs": [],
   "source": [
    "from datetime import datetime\n",
    "def get_weekdays(attribute):\n",
    "    res = dict()\n",
    "    for k, v in meals_res.items():\n",
    "        res[k] = [[], [], [], [], []]\n",
    "        for day, meals in v.items():\n",
    "            weekday = datetime.strptime(day, \"%Y-%m-%d\").weekday()\n",
    "            summed = 0\n",
    "            for idx, l in meals.items():\n",
    "                summed += l[attribute]\n",
    "            res[k][weekday].append((day, summed))\n",
    "    return res"
   ],
   "metadata": {
    "collapsed": false,
    "ExecuteTime": {
     "end_time": "2023-05-30T07:05:08.067079500Z",
     "start_time": "2023-05-30T07:05:07.991105100Z"
    }
   }
  },
  {
   "cell_type": "code",
   "execution_count": 14,
   "outputs": [],
   "source": [
    "def get_sums_for_canteen(attribute):\n",
    "    res = dict()\n",
    "    for k, v in meals_res.items():\n",
    "        res[k] = 0\n",
    "        for day, meals in v.items():\n",
    "            for idx, l in meals.items():\n",
    "                res[k] += l[attribute]\n",
    "    return res"
   ],
   "metadata": {
    "collapsed": false,
    "ExecuteTime": {
     "end_time": "2023-05-30T07:05:08.067079500Z",
     "start_time": "2023-05-30T07:05:08.001944200Z"
    }
   }
  },
  {
   "cell_type": "code",
   "execution_count": 15,
   "outputs": [],
   "source": [
    "def get_all_days():\n",
    "    res =[]\n",
    "    for day, v in meals_res[5].items():\n",
    "        res.append(day)\n",
    "    return res"
   ],
   "metadata": {
    "collapsed": false,
    "ExecuteTime": {
     "end_time": "2023-05-30T07:05:08.067079500Z",
     "start_time": "2023-05-30T07:05:08.016441300Z"
    }
   }
  },
  {
   "cell_type": "code",
   "execution_count": 16,
   "outputs": [],
   "source": [
    "for k, v in meals_res[5].items():\n",
    "    if k not in meals_res[27]:\n",
    "        print(k)\n",
    "    if k not in meals_res[35]:\n",
    "        print('d', k)"
   ],
   "metadata": {
    "collapsed": false,
    "ExecuteTime": {
     "end_time": "2023-05-30T07:05:08.067079500Z",
     "start_time": "2023-05-30T07:05:08.024345300Z"
    }
   }
  },
  {
   "cell_type": "code",
   "execution_count": 17,
   "outputs": [],
   "source": [
    "r = get_sums_for_day('served_meals')"
   ],
   "metadata": {
    "collapsed": false,
    "ExecuteTime": {
     "end_time": "2023-05-30T07:05:08.067079500Z",
     "start_time": "2023-05-30T07:05:08.043665800Z"
    }
   }
  },
  {
   "cell_type": "code",
   "execution_count": 18,
   "outputs": [],
   "source": [
    "s = get_sums_for_canteen('served_meals')"
   ],
   "metadata": {
    "collapsed": false,
    "ExecuteTime": {
     "end_time": "2023-05-30T07:05:08.067079500Z",
     "start_time": "2023-05-30T07:05:08.045792300Z"
    }
   }
  },
  {
   "cell_type": "code",
   "execution_count": 19,
   "outputs": [],
   "source": [
    "t = get_sums_for_weekday('served_meals')"
   ],
   "metadata": {
    "collapsed": false,
    "ExecuteTime": {
     "end_time": "2023-05-30T07:05:08.099418400Z",
     "start_time": "2023-05-30T07:05:08.074609500Z"
    }
   }
  },
  {
   "cell_type": "code",
   "execution_count": 20,
   "outputs": [],
   "source": [
    "weekdays_stats = get_weekdays('served_meals')"
   ],
   "metadata": {
    "collapsed": false,
    "ExecuteTime": {
     "end_time": "2023-05-30T07:05:08.173586Z",
     "start_time": "2023-05-30T07:05:08.080013100Z"
    }
   }
  },
  {
   "cell_type": "code",
   "execution_count": 21,
   "outputs": [],
   "source": [
    "import matplotlib.pyplot as plt\n",
    "for k, v in weekdays_stats.items():\n",
    "    for idx, l in enumerate(v):\n",
    "        plt.xticks(rotation=90)\n",
    "        plt.scatter([datetime.strptime(x[0], \"%Y-%m-%d\") for x in l], [x[1] for x in l], label=f'{weekday_dict[idx]}')\n",
    "        plt.ylabel(\"Served meals\")\n",
    "        plt.title(f'{canteens_dict[k]}, {weekday_dict[idx]}')\n",
    "        #plt.savefig(f'plots/{canteens_dict[k]}_{weekday_dict[idx]}.png', dpi=300)\n",
    "        plt.close()"
   ],
   "metadata": {
    "collapsed": false,
    "ExecuteTime": {
     "end_time": "2023-05-30T07:05:10.263262500Z",
     "start_time": "2023-05-30T07:05:08.107883400Z"
    }
   }
  },
  {
   "cell_type": "code",
   "execution_count": 22,
   "outputs": [],
   "source": [
    "for k, v in weekdays_stats.items():\n",
    "    plt.figure(figsize=(8, 4.5))\n",
    "    plt.xticks(rotation=90)\n",
    "    for idx, l in enumerate(v):\n",
    "        plt.plot([datetime.strptime(x[0], \"%Y-%m-%d\") for x in l], [x[1] for x in l], label=f'{weekday_dict[idx]}', marker='o', markersize=3)\n",
    "        plt.ylabel(\"Served meals\")\n",
    "        plt.title(f'{canteens_dict[k]}')\n",
    "    plt.legend()\n",
    "    plt.ylim(0)\n",
    "    plt.subplots_adjust(right=0.9, bottom=0.15)\n",
    "    plt.savefig(f'plots/weekday_by_canteen/{canteens_dict[k]}.png', dpi=300)\n",
    "    plt.close()"
   ],
   "metadata": {
    "collapsed": false,
    "ExecuteTime": {
     "end_time": "2023-05-30T07:05:13.264144100Z",
     "start_time": "2023-05-30T07:05:10.302330Z"
    }
   }
  },
  {
   "cell_type": "code",
   "execution_count": 23,
   "outputs": [],
   "source": [
    "# weekday_summed\n",
    "for i in range(5):\n",
    "    data = dict()\n",
    "    for k, v in weekdays_stats.items():\n",
    "        data[k] = v[i]\n",
    "\n",
    "    plt.figure(figsize=(8, 4.5))\n",
    "    plt.xticks(rotation=90)\n",
    "    for idx, l in data.items():\n",
    "        plt.plot([datetime.strptime(x[0], \"%Y-%m-%d\") for x in l], [x[1] for x in l], label=f'{canteens_dict[idx]}', marker='o', markersize=3)\n",
    "        plt.ylabel(\"Served meals\")\n",
    "        plt.title(f'{weekday_dict[i]}')\n",
    "    plt.ylim(0, 1000)\n",
    "    plt.legend(loc='center left', bbox_to_anchor=(1, 0.5))\n",
    "    plt.subplots_adjust(right=0.7, bottom=0.15)\n",
    "    plt.savefig(f'plots/weekday_summed/{weekday_dict[i]}.png', dpi=300)\n",
    "    plt.close()\n"
   ],
   "metadata": {
    "collapsed": false,
    "ExecuteTime": {
     "end_time": "2023-05-30T07:05:15.336745700Z",
     "start_time": "2023-05-30T07:05:13.272234Z"
    }
   }
  },
  {
   "cell_type": "code",
   "execution_count": 24,
   "outputs": [],
   "source": [
    "#summed over canteens\n",
    "def get_weekday_sums_over_canteens(attribute):\n",
    "    weekdays = get_weekdays(attribute)\n",
    "    res = dict()\n",
    "    for i in range(5):\n",
    "        sample_res = None\n",
    "        for k, v in weekdays.items():\n",
    "            if sample_res is None:\n",
    "                sample_res = [x for x in weekdays[k][i]]\n",
    "            else:\n",
    "                for j in range(len(sample_res)):\n",
    "                    sample_res[j] = (sample_res[j][0], sample_res[j][1] + weekdays[k][i][j][1])\n",
    "        res[i] = sample_res\n",
    "    return res\n",
    "\n",
    "weekdays_summed = get_weekday_sums_over_canteens('served_meals')\n",
    "\n",
    "plt.figure(figsize=(8, 4.5))\n",
    "plt.xticks(rotation=90)\n",
    "for idx, l in weekdays_summed.items():\n",
    "    filtered = [x for x in l if x[1] > 0]\n",
    "    plt.plot([datetime.strptime(x[0], \"%Y-%m-%d\") for x in filtered], [x[1] for x in filtered], label=f'{weekday_dict[idx]}', marker='o', markersize=3)\n",
    "    plt.ylabel(\"Served meals\")\n",
    "plt.ylim(ymin=1)\n",
    "plt.title(f'Sums over all canteens')\n",
    "plt.legend(loc='center left', bbox_to_anchor=(1, 0.5))\n",
    "plt.subplots_adjust(right=0.8, bottom=0.15)\n",
    "plt.savefig(f'plots/weekday_summed/sums.png', dpi=300)\n",
    "plt.close()"
   ],
   "metadata": {
    "collapsed": false,
    "ExecuteTime": {
     "end_time": "2023-05-30T07:05:15.743359400Z",
     "start_time": "2023-05-30T07:05:15.344745900Z"
    }
   }
  },
  {
   "cell_type": "code",
   "execution_count": 25,
   "outputs": [],
   "source": [
    "# sums over all canteens without color separation\n",
    "all_days = get_all_days()\n",
    "sums_over_canteens = dict()\n",
    "for day in all_days:\n",
    "    sums_over_canteens[day] = 0\n",
    "    for k, v in meals_res.items():\n",
    "        if day in v:\n",
    "            for idx, l in v[day].items():\n",
    "                sums_over_canteens[day] += l['served_meals']\n",
    "    if sums_over_canteens[day] == 0:\n",
    "        del sums_over_canteens[day]\n",
    "\n",
    "plt.figure(figsize=(8, 4.5))\n",
    "plt.xticks(rotation=90)\n",
    "plt.plot([datetime.strptime(k, \"%Y-%m-%d\") for k, v in sums_over_canteens.items()], [v for k, v in sums_over_canteens.items()], marker='o', markersize=3)\n",
    "plt.ylabel(\"Served meals\")\n",
    "plt.ylim(ymin=100)\n",
    "plt.title(f'Sums over all canteens')\n",
    "plt.subplots_adjust(bottom=0.15)\n",
    "plt.savefig(f'plots/weekday_summed/sums_2.png', dpi=300)\n",
    "plt.close()"
   ],
   "metadata": {
    "collapsed": false,
    "ExecuteTime": {
     "end_time": "2023-05-30T07:05:16.063045500Z",
     "start_time": "2023-05-30T07:05:15.766655800Z"
    }
   }
  },
  {
   "cell_type": "code",
   "execution_count": 26,
   "outputs": [],
   "source": [
    "# statistics for wasted food, aggregated by weeks\n",
    "wasted_food_days = get_sums_for_day('wasted_meals')\n",
    "alt_wasted_food_days = get_sums_for_day('wasted_meals_alt')\n",
    "\n",
    "wasted_food_weeks = dict()\n",
    "for k, v in wasted_food_days.items():\n",
    "    wasted_food_weeks[k] = dict()\n",
    "    for idx, l in v.items():\n",
    "        week = datetime.strptime(idx, \"%Y-%m-%d\").isocalendar()[1]\n",
    "        if week not in wasted_food_weeks[k].keys():\n",
    "            wasted_food_weeks[k][week] = (datetime.strptime(idx, \"%Y-%m-%d\"), 0, 0)\n",
    "        wasted_food_weeks[k][week] = (wasted_food_weeks[k][week][0], wasted_food_weeks[k][week][1] + l, wasted_food_weeks[k][week][2] + alt_wasted_food_days[k][idx])\n"
   ],
   "metadata": {
    "collapsed": false,
    "ExecuteTime": {
     "end_time": "2023-05-30T07:05:16.120712800Z",
     "start_time": "2023-05-30T07:05:16.065557400Z"
    }
   }
  },
  {
   "cell_type": "code",
   "execution_count": 27,
   "outputs": [],
   "source": [
    "# plot for all canteens\n",
    "plt.figure(figsize=(8, 4.5))\n",
    "plt.xticks(rotation=90)\n",
    "for idx, l in wasted_food_weeks.items():\n",
    "    plt.plot([x[0] for x in l.values()], [x[1] for x in l.values()], label=f'{canteens_dict[idx]}', marker='o', markersize=3)\n",
    "    plt.ylabel(\"Served meals\")\n",
    "plt.title(f'Wasted food per week')\n",
    "plt.ylim(0, 400)\n",
    "plt.legend(loc='center left', bbox_to_anchor=(1, 0.5))\n",
    "plt.subplots_adjust(right=0.7, bottom=0.15)\n",
    "plt.savefig(f'plots/wasted_food/all_wasted_food.png', dpi=300)\n",
    "plt.close()"
   ],
   "metadata": {
    "collapsed": false,
    "ExecuteTime": {
     "end_time": "2023-05-30T07:05:16.514462300Z",
     "start_time": "2023-05-30T07:05:16.093261600Z"
    }
   }
  },
  {
   "cell_type": "code",
   "execution_count": 43,
   "outputs": [],
   "source": [
    "# alt plot for all canteens\n",
    "plt.figure(figsize=(8, 4.5))\n",
    "plt.xticks(rotation=90)\n",
    "for idx, l in wasted_food_weeks.items():\n",
    "    plt.plot([x[0] for x in l.values()], [x[2] for x in l.values()], label=f'{canteens_dict[idx]}', marker='o', markersize=3)\n",
    "    plt.ylabel(\"Served meals\")\n",
    "plt.title(f'Alt wasted food per week')\n",
    "plt.ylim(0, 400)\n",
    "plt.legend(loc='center left', bbox_to_anchor=(1, 0.5))\n",
    "plt.subplots_adjust(right=0.7, bottom=0.15)\n",
    "plt.savefig(f'plots/wasted_food/all_wasted_food_alt.png', dpi=300)\n",
    "plt.close()"
   ],
   "metadata": {
    "collapsed": false,
    "ExecuteTime": {
     "end_time": "2023-05-30T07:14:24.249852800Z",
     "start_time": "2023-05-30T07:14:23.864963500Z"
    }
   }
  },
  {
   "cell_type": "code",
   "execution_count": 29,
   "outputs": [],
   "source": [
    "# wasted food, different plot per canteen\n",
    "for idx, l in wasted_food_weeks.items():\n",
    "    plt.figure(figsize=(8, 4.5))\n",
    "    plt.xticks(rotation=90)\n",
    "\n",
    "    plt.plot([x[0] for x in l.values()], [x[1] for x in l.values()], label=f'{canteens_dict[idx]}', marker='o', markersize=3)\n",
    "    plt.ylabel(\"Served meals\")\n",
    "\n",
    "    plt.title(f'Wasted food per week {canteens_dict[idx]}')\n",
    "    plt.ylim(0, 400)\n",
    "    plt.subplots_adjust(bottom=0.15)\n",
    "    plt.savefig(f'plots/wasted_food/wasted_food_{canteens_dict[idx]}.png', dpi=300)\n",
    "    plt.close()"
   ],
   "metadata": {
    "collapsed": false,
    "ExecuteTime": {
     "end_time": "2023-05-30T07:05:19.550630600Z",
     "start_time": "2023-05-30T07:05:16.978911400Z"
    }
   }
  },
  {
   "cell_type": "code",
   "execution_count": 30,
   "outputs": [],
   "source": [
    "# alt wasted food, different plot per canteen\n",
    "for idx, l in wasted_food_weeks.items():\n",
    "    plt.figure(figsize=(8, 4.5))\n",
    "    plt.xticks(rotation=90)\n",
    "\n",
    "    plt.plot([x[0] for x in l.values()], [x[2] for x in l.values()], label=f'{canteens_dict[idx]}', marker='o', markersize=3)\n",
    "    plt.ylabel(\"Served meals\")\n",
    "\n",
    "    plt.title(f'Alt wasted food per week {canteens_dict[idx]}')\n",
    "    plt.ylim(0, 400)\n",
    "    plt.subplots_adjust(bottom=0.15)\n",
    "    plt.savefig(f'plots/wasted_food/wasted_food_{canteens_dict[idx]}_alt.png', dpi=300)\n",
    "    plt.close()"
   ],
   "metadata": {
    "collapsed": false,
    "ExecuteTime": {
     "end_time": "2023-05-30T07:05:22.287550200Z",
     "start_time": "2023-05-30T07:05:19.552200600Z"
    }
   }
  },
  {
   "cell_type": "code",
   "execution_count": 31,
   "outputs": [],
   "source": [
    "def calculate_meal_score(meal_lists):\n",
    "    diffs = dict()\n",
    "    for meal_id, meal_list in meal_lists.items():\n",
    "        diffs[meal_id] = []\n",
    "        for i in range(len(meal_list) - 1):\n",
    "            diffs[meal_id].append(meal_list[i+1][2] - meal_list[i][2])\n",
    "\n",
    "    active = dict()\n",
    "    for meal_id, meal_list in meal_lists.items():\n",
    "        active[meal_id] = []\n",
    "        for i in range(len(meal_list) - 1):\n",
    "            active[meal_id].append(meal_list[i][1] != 0)\n",
    "\n",
    "    scores = dict()\n",
    "    for meal_id, meal_list in meal_lists.items():\n",
    "        scores[meal_id] = []\n",
    "    for i in range(len(meal_list) - 1):\n",
    "        total_diff = sum([diffs[meal_id][i] for meal_id in meal_lists.keys()])\n",
    "        no_active_meals = sum([active[meal_id][i] for meal_id in meal_lists.keys()])\n",
    "        if no_active_meals == 0 or total_diff == 0:\n",
    "            continue\n",
    "        for meal_id in meal_lists.keys():\n",
    "            if active[meal_id][i]:\n",
    "                scores[meal_id].append((diffs[meal_id][i] / total_diff) * no_active_meals)\n",
    "\n",
    "    res = dict()\n",
    "    for meal_id in meal_lists.keys():\n",
    "        if len(scores[meal_id]) > 0:\n",
    "            res[meal_id] = sum(scores[meal_id]) / len(scores[meal_id])\n",
    "\n",
    "    return res"
   ],
   "metadata": {
    "collapsed": false,
    "ExecuteTime": {
     "end_time": "2023-05-30T07:05:22.306899700Z",
     "start_time": "2023-05-30T07:05:22.287550200Z"
    }
   }
  },
  {
   "cell_type": "code",
   "execution_count": 32,
   "outputs": [
    {
     "name": "stdout",
     "output_type": "stream",
     "text": [
      "done 5\n",
      "done 7\n",
      "done 15\n",
      "done 21\n",
      "done 54\n",
      "done 27\n",
      "done 35\n"
     ]
    }
   ],
   "source": [
    "def calculate_alt_meal_score(meal_lists, minutes=15, tolerance=1):\n",
    "    if len(meal_lists.keys()) == 0:\n",
    "        return dict()\n",
    "\n",
    "    diffs = dict()\n",
    "    for meal_id, meal_list in meal_lists.items():\n",
    "        diffs[meal_id] = []\n",
    "        for i in range(0, len(meal_list) - 1, minutes):\n",
    "            diffs[meal_id].append(meal_list[i+minutes][2] - meal_list[i][2])\n",
    "\n",
    "    active = dict()\n",
    "    for meal_id, meal_list in meal_lists.items():\n",
    "        active[meal_id] = []\n",
    "        for i in range(0, len(meal_list) - 1, minutes):\n",
    "            act_sum = sum([meal_list[i+j][1] != 0 for j in range(minutes)])\n",
    "            if act_sum >= minutes - tolerance:\n",
    "                active[meal_id].append(True)\n",
    "            else:\n",
    "                active[meal_id].append(False)\n",
    "\n",
    "    scores = dict()\n",
    "    for meal_id, meal_list in meal_lists.items():\n",
    "        scores[meal_id] = []\n",
    "    index_diffs = next(iter(diffs))\n",
    "    for i in range(len(diffs[index_diffs])):\n",
    "        for meal_id in meal_lists.keys():\n",
    "            if len(diffs[meal_id]) <= i:\n",
    "                x = 7\n",
    "        total_diff = sum([diffs[meal_id][i] for meal_id in meal_lists.keys()])\n",
    "        no_active_meals = sum([active[meal_id][i] for meal_id in meal_lists.keys()])\n",
    "        if no_active_meals == 0 or total_diff == 0:\n",
    "            continue\n",
    "        for meal_id in meal_lists.keys():\n",
    "            if active[meal_id][i]:\n",
    "                scores[meal_id].append((diffs[meal_id][i] / total_diff) * no_active_meals)\n",
    "\n",
    "    res = dict()\n",
    "    for meal_id in meal_lists.keys():\n",
    "        if len(scores[meal_id]) > 0:\n",
    "            res[meal_id] = sum(scores[meal_id]) / len(scores[meal_id])\n",
    "\n",
    "    return res\n",
    "\n",
    "for canteen_id, day_dicts in meals_db.items():\n",
    "    for day, meal_lists in day_dicts.items():\n",
    "        sc = calculate_alt_meal_score(meal_lists, minutes=15, tolerance=1)\n",
    "        for meal_id, score in sc.items():\n",
    "            meals_res[canteen_id][day][meal_id]['score'] = score\n",
    "    print('done', canteen_id)\n"
   ],
   "metadata": {
    "collapsed": false,
    "ExecuteTime": {
     "end_time": "2023-05-30T07:05:22.521021300Z",
     "start_time": "2023-05-30T07:05:22.298301Z"
    }
   }
  },
  {
   "cell_type": "code",
   "execution_count": 33,
   "outputs": [],
   "source": [
    "x = 7"
   ],
   "metadata": {
    "collapsed": false,
    "ExecuteTime": {
     "end_time": "2023-05-30T07:05:22.528655500Z",
     "start_time": "2023-05-30T07:05:22.521021300Z"
    }
   }
  },
  {
   "cell_type": "code",
   "execution_count": 34,
   "outputs": [
    {
     "name": "stdout",
     "output_type": "stream",
     "text": [
      "kkkkkkkkkkkkkkkkkkkkkkkkkkkkkkkkkkkkkkkkkkkkkkkkkkkkkkkkkkkkkkkkkkkkkkkkkkkkkkkkkkkkkkkkkkkkkkkkkkkkkkkkkkkkkkkkkkkkkkkkkkkkkkkkkkkkkkkkkkkkkkkkkkkkkkkkkkkkkkkkkkkkkkkkkkkkkkkkkkkkkkkkkkkkkkkkkkkkkkkkkkkkkkkkkkkkkkkkkkkkkkkkkkkkkkkkkkkkkkkkkkkkkkkkkkkkkkkkkkkkkkkkkkkkkkkkkkkkkkkkkkkkkkkkkkkkkkkkkkkkkkkkkkkkkkkkkkkkkkkkkkkkkkkkkkkkkkkkkkkkkkkkkkkkkkkkkkkkkkkkkkkkkkkkkkkkkkkkkkkkkkkkkkkkkkkkkkkkkkkkkkkkkkkkkkkkkkkkkkkkkkkkkkkkkkkkkkkkkkkkkkkkkkkkkkkkkkkkkkkkkkkkkkkkkkkkkkkkkkkkkkkkkkkkkkkkkkkkkkkkkkkkkkkkkkkkkkkkkkkkkkkkkkkkkkkkkkkkkkkkkkkkkkkkkkkkkkkkkkkkkkkkkkkkkkkkkkkkkkkkkkkkkkkkkkkkkkkkkkkkkkkkkkkkkkkkkkkkkkkkkkkkkkkkkkkkkkkkkkkkkkkkkkkkkkkkkkkkkkkkkkkkkkkkkkkkkkkkkkkkkkkkkkkkkkkkkkkkkkkkkkkkkkkkkkkkkkkkkkkkkkkkkkkkkkkkkkkkkkkkkkkkkkkkkkkkkkkkkkkkkkkkkkkkkkkkkkkkkkkkkkkkkkkkkkkkkkkkkkkkkkkkkkkkkkkkkkkkkkkkkkkkkkkkkkkkkkkkkkkkkkkkkkkkkkkkkkkkkkkkkkkkkkkkkkkkkkkkkkkkkkkkkkkkkkkkkkkkkkkkkkkkkkkkkkkkkkkkkkkkkkkkkkkkkkkkkkkkkkkkkkkkkkkkkkkkkkkkkkkkkkkkkkkkkkkkkkkkkkkkkkkkkkkkkkkkkkkkkkkkkkkkkkkkkkkkkkkkkkkkkkkkkkkkkkkkkkkkkkkkkkkkkkkkkkkkkkkkkkkkkkkkkkkkkkkkkkkkkkkkkkkkkkkkkkkkkkkkkkkkkkkkkkkkkkkkkkkkkkkkkkkkkkkkkkkkkkkkkkkkkkkkkkkkkkkkkkkkkkkkkkkkkkkkkkkkkkkkkkkkkkkkkkkkkkkkkkkkkkkkkkkkkkkkkkkkkkkkkkkkkkkkkkkkkkkkkkkkkkkkkkkkkkkkkkkkkkkkkkkkkkkkkkkkkkkkkkkkkkkkkkkkkkkkkkkkkkkkkkkkkkkkkkkkkkkkkkkkkkkkkkkkkkkkkkkkkkkkkkkkkkkkkkkkkkkkkkkkkkkkkkkkkkkkkkkkkkkkkkkkkkkkkkkkkkkkkkkkkkkkkkkkkkkkkkkkkkkkkkkkkkkkkkkkkkkkkkkkkkkkkkkkkkkkkkkkkkkkkkkkkkkkkkkkkkkkkkkkkkkkkkkkkkkkkkkkkkkkkkkkkkkkkkkkkkkkkkkkkkkkkkkkkkkkkkkkkkkkkkkkkkkkkkkkkkkkkkkkkkkkkkkkkkkkkkkkkkkkkkkkkkkkkkkkkkkkkkkkkkkkkkkkkkkkkkkkkkkkkkkkkkkkkkkkkkkkkkkkkkkkkkkkkkkkkkkkkkkkkkkkkkkkkkkkkkkkkkkkkkkkkkkkkkkkkkkkkkkkkkkkkkkkkkkkkkkkkkkkkkkkkkkkkkkkkkkkkkkkkkkkkkkkkkkkkkkkkkkkkkkkkkkkkkkkkkkkkkkkkkkkkkkkkkkkkkkkkkkkkkkkkkkkkkkkkkkkkkkkkkkkkkkkkkkkkkkkkkkkkkkkkkkkkkkkkkkkkkkkkkkkkkkkkkkkkkkkkkkkkkkkkkkkkkkkkkkkkkkkkkkkkkkkkkkkkkkkkkkkkkkkkkkkkkkkkkkkkkkkkkkkkkkkkkkkkkkkkkkkkkkkkkkkkkkkkkkkkkkkkkkkkkkkkkkkkkkkkkkkkkkkkkkkkkkkkkkkkkkkkkkkkkkkkkkkkkkkkkkkkkkkkkkkkkkkkkkkkkkkkkkkkkkkkkkkkkkkkkkkkkkkkkkkkkkkkkkkkkkkkkkkkkkkkkkkkkkkkkkkkkkkkkkkkkkkkkkkkkkkkkkkkkkkkkkkkkkkkkkkkkkkkkkkkkkkkkkkkkkkkkkkkkkkkkkkkkkkkkkkkkkkkkkkkkkkkkkkkkkkkkkkkkkkkkkkkkkkkkkkkkkkkkkkkkkkkkkkkkkkkkkkkkkkkkkkkkkkkkkkkkkkkkkkkkkkkkkkkkkkkkkkkkkkkkkkkkkkkkkkkkkkkkkkkkkkkkkkkkkkkkkkkkkkkkkkkkkkkkkkkkkkkkkkkkkkkkkkkkkkkkkkkkkkkkkkkkkkkkkkkkkkkkkkkkkkkkkkkkkkkkkkkkkkkkkkkkkkkkkkkkkkkkkkkkkkkkkkkkkkkkkkkkkkkkkkkkkkkkkkkkkkkkkkkkkkkkkkkkkkkkkkkkkkkkkkkkkkkkkkkkkkkkkkkkkkkkkkkkkkkkkkkkkkkkkkkkkkkkkkkkkkkkkkkkkkkkkkkkkkkkkkkkkkkkkkkkkkkkkkkkkkkkkkkkkkkkkkkkkkkkkkkkkkkkkkkkkkkkkkkkkkkkkkkkkkkkkkkkkkkkkkkkkkkkkkkkkkkkkkkkkkkkkkkkkkkkkkkkkkkkkkkkkkkkkkkkkkkkkkkkkkkkkkkkkkkkkkkkkkkkkkkkkkkkkkkkkkkkkkkkkkkkkkkkkkkkkkkkkkkkkkkkkkkkkkkkkkkkkkkkkkkkkkkkkkkkkkkkkkkkkkkkkkkkkkkkkkkkkkkkkkkkkkkkkkkkkkkkkkkkkkkkkkkkkkkkkkkkkkkkkkkkkkkkkkkkkkkkkkkkkkkkkkkkkkkkkkkkkkkkkkkkkkkkkkkkkkkkkkkkkkkkkkkkkkkkkkkkkkkkkkkkkkkkkkkkkkkkkkkkkkkkkkkkkkkkkkkkkkkkkkkkkkkkkkkkkkkkkkkkkkkkkkkkkkkkkkkkkkkkkkkkkkkkkkkkkkkkkkkkkkkkkkkkkkkkkkkkkkkkkkkkkkkkkkkkkkkkkkkkkkkkkkkkkkkkkkkkkkkkkkkkkkkkkkkkkkkkkkkkkkkkkkkkkkkkkkkkkkkkkkkkkkkkkkkkkkkkkkkkkkkkkkkkkkkkkkkkkkkkkkkkkkkkkkkkkkkkkkkkkkkkkkkkkkkkkkkkkkkkkkkkkkkkkkkkkkkkkkkkkkkkkkkkkkkkkkkkkkkkkkkkkkkkkkkkkkkkkkkkkkkkkkkkkkkkkkkkkkkkkkkkkkkkkkkkkkkkkkkkkkkkkkkkkkkkkkkkkkkkkkkkkkkkkkkkkkkkkkkkkkkkkkkkkkkkkkkkkkkkkkkkkkkkkkkkkkkkkkkkkkkkkkkkkkkkkkkkkkkkkkkkkkkkkkkkkkkkkkkkkkkkkkkkkkkkkkkkkkkkkkkkkkkkkkkkkkkkkkkkkkkkkkkkkkkkkkkkkkkkkkkkkkkkkkkkkkkkkkkkkkkkkkkkkkkkkkkkkkkkkkkkkkkkkkkkkkkkkkkkkkkkkkkkkkkkkkkkkkkkkkkkkkkkkkkkkkkkkkkkkkkkkkkkkkkkkkkkkkkkkkkkkkkkkkkkkkkkkkkkkkkkkkkkkkkkkkkkkkkkkkkkkkkkkkkkkkkkkkkkkkkkkkkkkkkkkkkkkkkkkkkkkkkkkkkkkkkkkkkkkkkkkkkkkkkkkkkkkkkkkkkkkkkkkkkkkkkkkkkkkkkkkkkkkkkkkkkkkkkkkkkkkkkkkkkkkkkkkkkkkkkkkkkkkkkkkkkkkkkkkkkkkkkkkkkkkkkkkkkkkkkkkkkkkkkkkkkkkkkkkkkkkkkkkkkkkkkkkkkkkkkkkkkkkkkkkkkkkkkkkkkkkkkkkkkkkkkkkkkkkkkkkkkkkkkkkkkkkkkkkkkkkkkkkkkkkkkkkkkkkkkkkkkkkkkkkkkkkkkkkkkkkkkkkkkkkkkkkkkkkkkkkkkkkkkkkkkkkkkkkkkkkkkkkkkkkkkkkkkkkkkkkkkkkkkkkkkkkkkkkkkkkkkkkkkkkkkkkkkkkkkkkkkkkkkkkkkkkkkkkkkkkkkkkkkkkkkkkkkkkkkkkkkkkkkkkkkkkkkkkkkkkkkkkkkkkkkkkkkkkkkkkkkkkkkkkkkkkkkkkkkkkkkkkkkkkkkkkkkkkkkkkkkkkkkkkkkkkkkkkkkkkkkkkkkkkkkkkkkkkkkkkkkkkkkkkkkkkkkkkkkkkkkkkkkkkkkkkkkkkkkkkkkkkkkkkkkkkkkkkkkkkkkkkkkkkkkkkkkkkkkkkkkkkkkkkkkkkkkkkkkkkkkkkkkkkkkkkkkkkkkkkkkkkkkkkkkkkkkkkkkkkkkkkkkkkkkkkkkkkkkkkkkkkkkkkkkkkkkkkkkkkkkkkkkkkkkkkkkkkkkkkkkkkkkkkkkkkkkkkkkkkkkkkkkkkkkkkkkkkkkkkkkkkkkkkkkkkkkkkkkkkkkkkkkkkkkkkkkkkkkkkkkkkkkkkkkkkkkkkkkkkkkkkkkkkkkkkkkkkkkkkkkkkkkkkkkkkkkkkkkkkkkkkkkkkkkkkkkkkkkkkkkkkkkkkkkkkkkkkkkkkkkkkkkkkkkkkkkkkkkkkkkkkkkkkkkkkkkkkkkkkkkkkkkkkkkkkkkkkkkkkkkkkkkkkkkkkkkkkkkkkkkkkkkkkkkkkkkkkkkkkkkkkkkkkkkkkkkkkkkkkkkkkkkkkkkkkkkkkkkkkkkkkkkkkkkkkkkkkkkkkkkkkkkkkkkkkkkkkkkkkkkkkkkkkkkkkkkkkkkkkkkkkkkkkkkkkkkkkkkkkkkkkkkkkkkkkkkkkkkkkkkkkkkkkkkkkkkkkkkkkkkkkkkkkkkkkkkkkkkkkkkkkkkkkkkkkkkkkkkkkkkkkkkkkkkkkkkkkkkkkkkkkkkkkkkkkkkkkkkkkkkkkkkkkkkkkkkkkkkkkkkkkkkkkkkkkkkkkkkkkkkkkkkkkkkkkkkkkkkkkkkkkkkkkkkkkkkkkkkkkkkkkkkkkkkkkkkkkkkkkkkkkkkkkkkkkkkkkkkkkkkkkkkkkkkkkkkkkkkkkkkkkkkkkkkkkkkkkkkkkkkkkkkkkkkkkkkkkkkkkkkkkkkkkkkkkkkkkkkkkkkkkkkkkkkkkkkkkkkkkkkkkkkkkkkkkkkkkkkkkkkkkkkkkkkkkkkkkkkkkkkkkkkkkkkkkkkkkkkkkkkkkkkkkkkkkkkkkkkkkkkkkkkkkkkkkkkkkkkkkkkkkkkkkkkkkkkkkkkkkkkkkkkkkkkkkkkkkkkkkkkkkkkkkkkkkkkkkkkkkkkkkkkkkkkkkkkkkkkkkkkkkkkkkkkkkkkkkkkkkkkkkkkkkkkkkkkkkkkkkkkkkkkkkkkkkkkkkkkkkkkkkkkkkkkkkkkkkkkkkkkkkkkkkkkkkkkkkkkkkkkkkkkkkkkkkkkkkkkkkkkkkkkkkkkkkkkkkkkkkkkkkkkkkkkkkkkkkkkkkkkkkkkkkkkkkkkkkkkkkkkkkkkkkkkkkkkkkkkkkkkkkkkkkkkkkkkkkkkkkkkkkkkkkkkkkkkkkkkkkkkkkkkkkkkkkkkkkkkkkkkkkkkkkkkkkkkkkkkkkkkkkkkkkkkkkkkkkkkkkkkkkkkkkkkkkkkkkkkkkkkkkkkkkkkkkkkkkkkkkkkkkkkkkkkkkkkkkkkkkkkkkkkkkkkkkkkkkkkkkkkkkkkkkkkkkkkkkkkkkkkkkkkkkkkkkkkkkkkkkkkkkkkkkkkkkkkkkkkkkkkkkkkkkkkkkkkkkkkkkkkkkkkkkkkkkkkkkkkkkkkkkkkkkkkkkkkkkkkkkkkkkkkkkkkkkkkkkkkkkkkkkkkkkkkkkkkkkkkkkkkkkkkkkkkkkkkkkkkkkkkkkkkkkkkkkkkkkkkkkkkkkkkkkkkkkkkkkkkkkkkkkkkkkkkkkkkkkkkkkkkkkkkkkkkkkkkkkkkkkkkkkkkkkkkkkkkkkkkkkkkkkkkkkkkkkkkkkkkkkkkkkkkkkkkkkkkkkkkkkkkkkkkkkkkkkkkkkkkkkkkkkkkkkkkkkkkkkkkkkkkkkkkkkkkkkkkkkkkkkkkkkkkkkkkkkkkkkkkkkkkkkkkkkkkkkkkkkkkkkkkkkkkkkkkkkkkkkkkkkkkkkkkkkkkkkkkkkkkkkkkkkkkkkkkkkkkkkkkkkkkkkkkkkkkkkkkkkkkkkkkkkkkkkkkkkkkkkkkkkkkkkkkkkkkkkkkkkkkkkkkkkkkkkkkkkkkkkkkkkkkkkkkkkkkkkkkkkkkkkkkkkkkkkkkkkkkkkkkkkkkkkkkkkkkkkkkkkkkkkkkkkkkkkkkkkkkkkkkkkkkkkkkkkkkkkkkkkkkkkkkkkkkkkkkkkkkkkkkkkkkkkkkkkkkkkkkkkkkkkkkkkkkkkkkkkkkkkkkkkkkkkkkkkkkkkkkkkkkkkkkkkkkkkkkkkkkkkkkkkkkkkkkkkkkkkkkkkkkkkkkkkkkkkkkkkkkkkkkkkkkkkkkkkkkkkkkkkkkkkkkkkkkkkkkkkkkkkkkkkkkkkkkkkkkkkkkkkkkkkkkkkkkkkkkkkkkkkkkkkkkkkkkkkkkkkkkkkkkkkkkkkkkkkkkkkkkkkkkkkkkkkkkkkkkkkkkkkkkkkkkkkkkkkkkkkkkkkkkkkkkkkkkkkkkkkkkkkkkkkkkkkkkkkkkkkkkkkkkkkkkkkkkkkkkkkkkkkkkkkkkkkkkkkkkkkkkkkkkkkkkkkkkkkkkkkkkkkkkkkkkkkkkkkkkkkkkkkkkkkkkkkkkkkkkkkkkkkkkkkkkkkkkkkkkkkkkkkkkkkkkkkkkkkkkkkkkkkkkkkkkkkkkkkkkkkkkkkkkkkkkkkkkkkkkkkkkkkkkkkkkkkkkkkkkkkkkkkkkkkkkkkkkkkkkkkkkkkkkkkkkkkkkkkkkkkkkkkkkkkkkkkkkkkkkkkkkkkkkkkkkkkkkkkkkkkkkkkkkkkkkkkkkkkkkkkkkkkkkkkkkkkkkkkkkkkkkkkkkkkkkkkkkkkkkkkkkkkkkkkkkkkkkkkkkkkkkkkkkkkkkkkkkkkkkkkkkkkkkkkkkkkkkkkkkkkkkkkkkkkkkkkkkkkkkkkkkkkkkkkkkkkkkkkkkkkkkkkkkkkkkkkkkkkkkkkkkkkkkkkkkkkkkkkkkkkkkkkkkkkkkkkkkkkkkkkkkkkkkkkkkkkkkkkkkkkkkkkkkkkkkkkkkkkkkkkkkkkkkkkkkkkkkkkkkkkkkkkkkkkkkkkkkkkkkkkkkkkkkkkkkkkkkkkkkkkkkkkkkkkkkkkkkkkkkkkkkkkkkkkkkkkkkkkkkkkkkkkkkkkkkkkkkkkkkkkkkkkkkkkkkkkkkkkkkkkkkkkkkkkkkkkkkkkkkkkkkkkkkkkkkkkkkkkkkkkkkkkkkkkkkkkkkkkkkkkkkkkkkkkkkkkkkkkkkkkkkkkkkkkkkkkkkkkkkkkkkkkkkkkkkkkkkkkkkkkkkkkkkkkkkkkkkkkkkkkkkkkkkkkkkkkkkkkkkkkkkkkkkkkkkkkkkkkkkkkkkkkkkkkkkkkkkkkkkkkkkkkkkkkkkkkkkkkkkkkkkkkkkkkkkkkkkkkkkkkkkkkkkkkkkkkkkkkkkkkkkkkkkkkkkkkkkkkkkkkkkkkkkkkkkkkkkkkkkkkkkkkkkkkkkkkkkkkkkkkkkkkkkkkkkkkkkkkkkkkkkkkkkkkkkkkkkkkkkkkkkkkkkkkkkkkkkkkkkkkkkkkkkkkkkkkkkkkkkkkkkkkkkkkkkkkkkkkkkkkkkkkkkkkkkkkkkkkkkkkkkkkkkkkkkkkkkkkkkkkkkkkkkkkkkkkkkkkkkkkkkkkkkkkkkkkkkkkkkkkkkkkkkkkkkkkkkkkkkkkkkkkkkkkkkkkkkkkkkkkkkkkkkkkkkkkkkkkkkkkkkkkkkkkkkkkkkkkkkkkkkkkkkkkkkkkkkkkkkkkkkkkkkkkkkkkkkkkkkkkkkkkkkkkkkkkkkkkkkkkkkkkkkkkkkkkkkkkkkkkkkkkkkkkkkkkkkkkkkkkkkkkkkkkkkkkkkkkkkkkkkkkkkkkkkkkkkkkkkkkkkkkkkkkkkkkkkkkkkkkkkkkkkkkkkkkkkkkkkkkkkkkkkkkkkkkkkkkkkkkkkkkkkkkkkkkkkkkkkkkkkkkkkkkkkkkkkkkkkkkkkkkkkkkkkkkkkkkkkkkkkkkkkkkkkkkkkkkkkkkkkkkkkkkkkkkkkkkkkkkkkkkkkkkkkkkkkkkkkkkkkkkkkkkkkkkkkkkkkkkkkkkkkkkkkkkkkkkkkkkkkkkkkkkkkkkkkkkkkkkkkkkkkkkkkkkkkkkkkkkkkkkkkkkkkkkkkkkkkkkkkkkkkkkkkkkkkkkkkkkkkkkkkkkkkkkkkkkkkkkkkkkkkkkkkkkkkkkkkkkkkkkkkkkkkkkkkkkkkkkkkkkkkkkkkkkkkkkkkkkkkkkkkkkkkkkkkkkkkkkkkkkkkkkkkkkkkkkkkkkkkkkkkkkkkkkkkkkkkkkkkkkkkkkkkkkkkkkkkkkkkkkkkkkkkkkkkkkkkkkkkkkkkkkkkkkkkkkkkkkkkkkkkkkkkkkkkkkkkkkkkkkkkkkkkkkkkkkkkkkkkkkkkkkkkkkkkkkkkkkkkkkkkkkkkkkkkkkkkkkkkkkkkkkkkkkkkkkkkkkkkkkkkkkkkkkkkkkkkkkkkkkkkkkkkkkkkkkkkkkkkkkkkkkkkkkkkkkkkkkkkkkkkkkkkkkkkkkkkkkkkkkkkkkkkkkkkkkkkkkkkkkkkkkkkkkkkkkkkkkkkkkkkkkkkkkkkkkkkkkkkkkkkkkkkkkkkkkkkkkkkkkkkkkkkkkkkkkkkkkkkkkkkkkkkkkkkkkkkkkkkkkkkkkkkkkkkkkkkkkkkkkkkkkkkkkkkkkkkkkkkkkkkkkkkkkkkkkkkkkkkkkkkkkkkkkkkkkkkkkkkkkkkkkkkkkkkkkkkkkkkkkkkkkkkkkkkkkkkkkkkkkkkkkkkkkkkkkkkkkkkkkkkkkkkkkkkkkkkkkkkkkkkkkkkkkkkkkkkkkkkkkkkkkkkkkkkkkkkkkkkkkkkkkkkkkkkkkkkkkkkkkkkkkkkkkkkkkkkkkkkkkkkkkkkkkkkkkkkkkkkkkkkkkkkkkkkkkkkkkkkkkkkkkkkkkkkkkkkkkkkkkkkkkkkkkkkkkkkkkkkkkkkkkkkkkkkkkkkkkkkkkkkkkkkkkkkkkkkkkkkkkkkkkkkkkkkkkkkkkkkkkkkkkkkkkkkkkkkkkkkkkkkkkkkkkkkkkkkkkkkkkkkkkkkkkkkkkkkkkkkkkkkkkkkkkkkkkkkkkkkkkkkkkkkkkkkkkkkkkkkkkkkkkkkkkkkkkkkkkkkkkkkkkkkkkkkkkkkkkkkkkkkkkkkkkkkkkkkkkkkkkkkkkkkkkkkkkkkkkkkkkkkkkkkkkkkkkkkkkkkkkkkkkkkkkkkkkkkkkkkkkkkkkkkkkkkkkkkkkkkkkkkkkkkkkkkkkkkkkkkkkkkkkkkkkkkkkkkkkkkkkkkkkkkkkkkkkkkkkkkkkkkkkkkkkkkkkkkkkkkkkkkkkkkkkkkkkkkkkkkkkkkkkkkkkkkkkkkkkkkkkkkkkkkkkkkkkkkkkkkkkkkkkkkkkkkkkkkkkkkkkkkkkkkkkkkkkkkkkkkkkkkkkkkkkkkkkkkkkkkkkkkkkkkkkkkkkkkkkkkkkkkkkkkkkkkkkkkkkkkkkkkkkkkkkkkkkkkkkkkkkkkkkkkkkkkkkkkkkkkkkkkkkkkkkkkkkkkkkkkkkkkkkkkkkkkkkkkkkkkkkkkkkkkkkkkkkkkkkkkkkkkkkkkkkkkkkkkkkkkkkkkkkkkkkkkkkkkkkkkkkkkkkkkkkkkkkkkkkkkkkkkkkkkkkkkkkkkkkkkkkkkkkkkkkkkkkkkkkkkkkkkkkkkkkkkkkkkkkkkkkkkkkkkkkkkkkkkkkkkkkkkkkkkkkkkkkkkkkkkkkkkkkkkkkkkkkkkkkkkkkkkkkkkkkkkkkkkkkkkkkkkkkkkkkkkkkkkkkkkkkkkkkkkkkkkkkkkkkkkkkkkkkkkkkkkkkkkkkkkkkkkkkkkkkkkkkkkkkkkkkkkkkkkkkkkkkkkkkkkkkkkkkkkkkkkkkkkkkkkkkkkkkkkkkkkkkkkkkkkkkkkkkkkkkkkkkkkkkkkkkkkkkkkkkkkkkkkkkkkkkkkkkkkkkkkkkkkkkkkkkkkkkkkkkkkkkkkkkkkkkkkkkkkkkkkkkkkkkkkkkkkkkkkkkkkkkkkkkkkkkkkkkkkkkkkkkkkkkkkkkkkkkkkkkkkkkkkkkkkkkkkkkkkkkkkkkkkkkkkkkkkkkkkkkkkkkkkkkkkkkkkkkkkkkkkkkkkkkkkkkkkkkkkkkkkkkkkkkkkkkkkkkkkkkkkkkkkkkkkkkkkkkkkkkkkkkkkkkkkkkkkkkkkkkkkkkkkkkkkkkkkkkkkkkkkkkkkkkkkkkkkkkkkkkkkkkkkkkkkkkkkkkkkkkkkkkkkkkkkkkkkkkkkkkkkkkkkkkkkkkkkkkkkkkkkkkkkkkkkkkkkkkkkkkkkkkkkkkkkkkkkkkkkkkkkkkkkkkkkkkkkkkkkkkkkkkkkkkkkkkkkkkkkkkkkkkkkkkkkkkkkkkkkkkkkkkkkkkkkkkkkkkkkkkkkkkkkkkkkkkkkkkkkkkkkkkkkkkkkkkkkkkkkkkkkkkkkkkkkkkkkkkkkkkkkkkkkkkkkkkkkkkkkkkkkkkkkkkkkkkkkkkkkkkkkkkkkkkkkkkkkkkkkkkkkkkkkkkkkkkkkkkkkkkkkkkkkkkkkkkkkkkkkkkkkkkkkkkkkkkkkkkkkkkkkkkkkkkkkkkkkkkkkkkkkkkkkkkkkkkkkkkkkkkkkkkkkkkkkkkkkkkkkkkkkkkkkkkkkkkkkkkkkkkkkkkkkkkkkkkkkkkkkkkkkkkkkkkkkkkkkkkkkkkkkkkkkkkkkkkkkkkkkkkkkkkkkkkkkkkkkkkkkkkkkkkkkkkkkkkkkkkkkkkkkkkkkkkkkkkkkkkkkkkkkkkkkkkkkkkkkkkkkkkkkkkkkkkkkkkkkkkkkkkkkkkkkkkkkkkkkkkkkkkkkkkkkkkkkkkkkkkkkkkkkkkkkkkkkkkkkkkkkkkkkkkkkkkkkkkkkkkkkkkkkkkkkkkkkkkkkkkkkkkkkkkkkkkkkkkkkkkkkkkkkkkkkkkkkkkkkkkkkkkkkkkkkkkkkkkkkkkkkkkkkkkkkkkkkkkkkkkkkkkkkkkkkkkkkkkkkkkkkkkkkkkkkkkkkkkkkkkkkkkkkkkkkkkkkkkkkkkkkkkkkkkkkkkkkkkkkkkkkkkkkkkkkkkkkkkkkkkkkkkkkkkkkkkkkkkkkkkkkkkkkkkkkkkkkkkkkkkkkkkkkkkkkkkkkkkkkkkkkkkkkkkkkkkkkkkkkkkkkkkkkkkkkkkkkkkkkkkkkkkkkkkkkkkkkkkkkkkkkkkkkkkkkkkkkkkkkkkkkkkkkkkkkkkkkkkkkkkkkkkkkkkkkkkkkkkkkkkkkkkkkkkkkkkkkkkkkkkkkkkkkkkkkkkkkkkkkkkkkkkkkkkkkkkkkkkkkkkkkkkkkkkkkkkkkkkkkkkkkkkkkkkkkkkkkkkkkkkkkkkkkkkkkkkkkkkkkkkkkkkkkkkkkkkkkkkkkkkkkkkkkkkkkkkkkkkkkkkkkkkkkkkkkkkkkkkkkkkkkkkkkkkkkkkkkkkkkkkkkkkkkkkkkkkkkkkkkkkkkkkkkkkkkkkkkkkkkkkkkkkkkkkkkkkkkkkkkkkkkkkkkkkkkkkkkkkkkkkkkkkkkkkkkkkkkkkkkkkkkkkkkkkkkkkkkkkkkkkkkkkkkkkkkkkkkkkkkkkkkkkkkkkkkkkkkkkkkkkkkkkkkkkkkkkkkkkkkkkkkkkkkkkkkkkkkkkkkkkkkkkkkkkkkkkkkkkkkkkkkkkkkkkkkkkkkkkkkkkkkkkkkkkkkkkkkkkkkkkkkkkkkkkkkkkkkkkkkkkkkkkkkkkkkkkkkkkkkkkkkkkkkkkkkkkkkkkkkkkkkkkkkkkkkkkkkkkkkkkkkkkkkkkkkkkkkkkkkkkkkkkkkkkkkkkkkkkkkkkkkkkkkkkkkkkkkkkkkkkkkkkkkkkkkkkkkkkkkkkkkkkkkkkkkkkkkkkkkkkkkkkkkkkkkkkkkkkkkkkkkkkkkkkkkkkkkkkkkkkkkkkkkkkkkkkkkkkkkkkkkkkkkkkkkkkkkkkkkkkkkkkkkkkkkkkkkkkkkkkkkkkkkkkkkkkkkkkkkkkkkkkkkkkkkkkkkkkkkkkkkkkkkkkkkkkkkkkkkkkkkkkkkkkkkkkkkkkkkkkkkkkkkkkkkkkkkkkkkkkkkkkkkkkkkkkkkkkkkkkkkkkkkkkkkkkkkkkkkkkkkkkkkkkkkkkkkkkkkkkkkkkkkkkkkkkkkkkkkkkkkkkkkkkkkkkkkkkkkkkkkkkkkkkkkkkkkkkkkkkkkkkkkkkkkkkkkkkkkkkkkkkkkkkkkkkkkkkkkkkkkkkkkkkkkkkkkkkkkkkkkkkkkkkkkkkkkkkkkkkkkkkkkkkkkkkkkkkkkkkkkkkkkkkkkkkkkkkkkkkkkkkkkkkkkkkkkkkkkkkkkkkkkkkkkkkkkkkkkkkkkkkkkkkkkkkkkkkkkkkkkkkkkkkkkkkkkkkkkkkkkkkkkkkkkkkkkkkkkkkkkkkkkkkkkkkkkkkkkkkkkkkkkkkkkkkkkkkkkkkkkkkkkkkkkkkkkkkkkkkkkkkkkkkkkkkkkkkkkkkkkkkkkkkkkkkkkkkkkkkkkkkkkkkkkkkkkkkkkkkkkkkkkkkkkkkkkkkkkkkkkkkkkkkkkkkkkkkkkkkkkkkkkkkkkkkkkkkkkkkkkkkkkkkkkkkkkkkkkkkkkkkkkkkkkkkkkkkkkkkkkkkkkkkkkkkkkkkkkkkkkkkkkkkkkkkkkkkkkkkkkkkkkkkkkkkkkkkkkkkkkkkkkkkkkkkkkkkkkkkkkkkkkkkkkkkkkkkkkkkkkkkkkkkkkkkkkkkkkkkkkkkkkkkkkkkkkkkkkkkkkkkkkkkkkkkkkkkkkkkkkkkkkkkkkkkkkkkkkkkkkkkkkkkkkkkkkkkkkkkkkkkkkkkkkkkkkkkkkkkkkkkkkkkkkkkkkkkkkkkkkkkkkkkkkkkkkkkkkkkkkkkkkkkkkkkkkkkkkkkkkkkkkkkkkkkkkkkkkkkkkkkkkkkkkkkkkkkkkkkkkkkkkkkkkkkkkkkkkkkkkkkkkkkkkkkkkkkkkkkkkkkkkkkkkkkkkkkkkkkkkkkkkkkkkkkkkkkkkkkkkkkkkkkkkkkkkkkkkkkkkkkkkkkkkkkkkkkkkkkkkkkkkkkkkkkkkkkkkkkkkkkkkkkkkkkkkkkkkkkkkkkk"
     ]
    }
   ],
   "source": [
    "current_canteen_ids = meals_res.keys()\n",
    "for row in meals_dataframe.itertuples():\n",
    "    if row.canteenId in current_canteen_ids:\n",
    "        if row.kindId == 3:\n",
    "            if row.day >= '2022-10':\n",
    "                if row.day in meals_res[row.canteenId].keys():\n",
    "                    if row.altId in meals_res[row.canteenId][row.day].keys():\n",
    "                        meals_res[row.canteenId][row.day][row.altId]['price2'] = row.price2\n",
    "                        meals_res[row.canteenId][row.day][row.altId]['name'] = row.name\n",
    "    print('k', end='')"
   ],
   "metadata": {
    "collapsed": false,
    "ExecuteTime": {
     "end_time": "2023-05-30T07:05:22.632719700Z",
     "start_time": "2023-05-30T07:05:22.532847200Z"
    }
   }
  },
  {
   "cell_type": "code",
   "execution_count": 35,
   "outputs": [],
   "source": [
    "x = 7"
   ],
   "metadata": {
    "collapsed": false,
    "ExecuteTime": {
     "end_time": "2023-05-30T07:05:22.634946800Z",
     "start_time": "2023-05-30T07:05:22.611008Z"
    }
   }
  },
  {
   "cell_type": "code",
   "execution_count": 36,
   "outputs": [],
   "source": [
    "# plot based on price and score and colored by time\n",
    "for canteen_id, day_dicts in meals_res.items():\n",
    "    data = []\n",
    "    for day, meal_lists in day_dicts.items():\n",
    "        for meal_id, meal_dict in meal_lists.items():\n",
    "            if 'price2' in meal_dict.keys() and 'score' in meal_dict.keys():\n",
    "                data.append((meal_dict['price2']/100, meal_dict['score'], len(data)))\n",
    "\n",
    "    plt.figure(figsize=(8, 4.5))\n",
    "    plt.scatter([x[0] for x in data], [x[1] for x in data], c=[x[2] for x in data], s=20, cmap='plasma')\n",
    "    plt.xlabel('Price for students')\n",
    "    plt.ylabel('Score')\n",
    "    plt.title(f'{canteens_dict[canteen_id]} colored by time')\n",
    "    plt.savefig(f'plots/scores/orig_{canteens_dict[canteen_id]}.png', dpi=300)\n",
    "    plt.close()\n"
   ],
   "metadata": {
    "collapsed": false,
    "ExecuteTime": {
     "end_time": "2023-05-30T07:05:25.060561400Z",
     "start_time": "2023-05-30T07:05:22.632719700Z"
    }
   }
  },
  {
   "cell_type": "code",
   "execution_count": 37,
   "outputs": [],
   "source": [
    "# plot based on time and score and colored by price\n",
    "for canteen_id, day_dicts in meals_res.items():\n",
    "    data = []\n",
    "    for day, meal_lists in day_dicts.items():\n",
    "        for meal_id, meal_dict in meal_lists.items():\n",
    "            if 'price2' in meal_dict.keys() and 'score' in meal_dict.keys():\n",
    "                data.append((meal_dict['price2']/100, meal_dict['score'], datetime.strptime(day, \"%Y-%m-%d\")))\n",
    "\n",
    "    plt.figure(figsize=(8, 4.5))\n",
    "    plt.scatter([x[2] for x in data], [x[1] for x in data], c=[x[0] for x in data], s=20, cmap='YlOrRd')\n",
    "    plt.xlabel('Time')\n",
    "    plt.ylabel('Score')\n",
    "    plt.title(f'{canteens_dict[canteen_id]} colored by price')\n",
    "    plt.savefig(f'plots/scores/time_{canteens_dict[canteen_id]}.png', dpi=300)\n",
    "    plt.close()"
   ],
   "metadata": {
    "collapsed": false,
    "ExecuteTime": {
     "end_time": "2023-05-30T07:05:27.722969300Z",
     "start_time": "2023-05-30T07:05:25.070406Z"
    }
   }
  },
  {
   "cell_type": "code",
   "execution_count": 38,
   "outputs": [],
   "source": [
    "# plot based on time and price and colored by score\n",
    "for canteen_id, day_dicts in meals_res.items():\n",
    "    data = []\n",
    "    for day, meal_lists in day_dicts.items():\n",
    "        for meal_id, meal_dict in meal_lists.items():\n",
    "            if 'price2' in meal_dict.keys() and 'score' in meal_dict.keys():\n",
    "                data.append((meal_dict['price2']/100, meal_dict['score'], datetime.strptime(day, \"%Y-%m-%d\")))\n",
    "\n",
    "    plt.figure(figsize=(8, 4.5))\n",
    "    plt.scatter([x[2] for x in data], [x[0] for x in data], c=[x[1] for x in data], s=20, cmap='YlGn')\n",
    "    plt.xlabel('Time')\n",
    "    plt.ylabel('Price')\n",
    "    plt.title(f'{canteens_dict[canteen_id]} colored by score')\n",
    "    plt.savefig(f'plots/scores/score_{canteens_dict[canteen_id]}.png', dpi=300)\n",
    "    plt.close()"
   ],
   "metadata": {
    "collapsed": false,
    "ExecuteTime": {
     "end_time": "2023-05-30T07:05:30.698407600Z",
     "start_time": "2023-05-30T07:05:27.722969300Z"
    }
   }
  },
  {
   "cell_type": "code",
   "execution_count": 39,
   "outputs": [
    {
     "name": "stdout",
     "output_type": "stream",
     "text": [
      "done 5\n",
      "done 7\n",
      "done 15\n",
      "done 21\n",
      "done 54\n",
      "done 27\n",
      "done 35\n"
     ]
    }
   ],
   "source": [
    "# calculate meals by interval by weekday\n",
    "meal_list_length = 241\n",
    "def calculate_meal_by_interval(meal_lists, minutes=15):\n",
    "    if len(meal_lists.keys()) == 0:\n",
    "        return dict()\n",
    "\n",
    "    diffs = dict()\n",
    "    for i in range(0, meal_list_length - 1, minutes):\n",
    "        summ = 0\n",
    "        for meal_id, meal_list in meal_lists.items():\n",
    "            summ += meal_list[i+minutes][2] - meal_list[i][2]\n",
    "        diffs[meal_list[i][0]] = summ\n",
    "    return diffs\n",
    "\n",
    "counts_by_intervals = dict()\n",
    "\n",
    "for canteen_id, day_dicts in meals_db.items():\n",
    "    counts_by_intervals[canteen_id] = dict()\n",
    "    for day, meal_lists in day_dicts.items():\n",
    "        interv = calculate_meal_by_interval(meal_lists, minutes=15)\n",
    "        for time_point, val in interv.items():\n",
    "            week_day_calculated = datetime.strptime(day, \"%Y-%m-%d\").weekday()\n",
    "            if week_day_calculated not in counts_by_intervals[canteen_id].keys():\n",
    "                counts_by_intervals[canteen_id][week_day_calculated] = defaultdict(int)\n",
    "            counts_by_intervals[canteen_id][week_day_calculated][time_point.strftime('%H:%M')] += val\n",
    "    print('done', canteen_id)"
   ],
   "metadata": {
    "collapsed": false,
    "ExecuteTime": {
     "end_time": "2023-05-30T07:05:30.932742600Z",
     "start_time": "2023-05-30T07:05:30.801857200Z"
    }
   }
  },
  {
   "cell_type": "code",
   "execution_count": 40,
   "outputs": [],
   "source": [
    "x = 7"
   ],
   "metadata": {
    "collapsed": false,
    "ExecuteTime": {
     "end_time": "2023-05-30T07:05:30.997819100Z",
     "start_time": "2023-05-30T07:05:30.936769600Z"
    }
   }
  },
  {
   "cell_type": "code",
   "execution_count": 41,
   "outputs": [],
   "source": [
    "# plot meals by interval\n",
    "for canteen_id, day_dicts in meals_res.items():\n",
    "    data = counts_by_intervals[canteen_id]\n",
    "\n",
    "    plt.figure(figsize=(8, 4.5))\n",
    "    plt.xticks(rotation=90)\n",
    "    for idx, l in data.items():\n",
    "        plt.plot(l.keys(), l.values(), label=f'{weekday_dict[idx]}', marker='o', markersize=3)\n",
    "    plt.ylabel(\"Served meals\")\n",
    "    plt.ylim(0)\n",
    "    plt.title(f'Meals served in {canteens_dict[canteen_id]}')\n",
    "    plt.legend(loc='center left', bbox_to_anchor=(1, 0.5))\n",
    "    plt.subplots_adjust(right=0.8, bottom=0.15)\n",
    "    plt.savefig(f'plots/by_interval/{canteens_dict[canteen_id]}_intervals.png', dpi=300)\n",
    "    plt.close()\n"
   ],
   "metadata": {
    "collapsed": false,
    "ExecuteTime": {
     "end_time": "2023-05-30T07:05:34.188442400Z",
     "start_time": "2023-05-30T07:05:30.952682900Z"
    }
   }
  },
  {
   "cell_type": "code",
   "execution_count": 41,
   "outputs": [],
   "source": [],
   "metadata": {
    "collapsed": false,
    "ExecuteTime": {
     "end_time": "2023-05-30T07:05:34.199971800Z",
     "start_time": "2023-05-30T07:05:34.196455700Z"
    }
   }
  },
  {
   "cell_type": "code",
   "execution_count": 41,
   "outputs": [],
   "source": [],
   "metadata": {
    "collapsed": false,
    "ExecuteTime": {
     "end_time": "2023-05-30T07:05:34.214940600Z",
     "start_time": "2023-05-30T07:05:34.199971800Z"
    }
   }
  },
  {
   "cell_type": "code",
   "execution_count": 41,
   "outputs": [],
   "source": [],
   "metadata": {
    "collapsed": false,
    "ExecuteTime": {
     "end_time": "2023-05-30T07:05:34.286791500Z",
     "start_time": "2023-05-30T07:05:34.214940600Z"
    }
   }
  },
  {
   "cell_type": "code",
   "execution_count": 42,
   "outputs": [],
   "source": [
    "# poznámky - jídla se berou bez objednaných, takže se bere pouze \"populace těch, kteří si vybírají na místě\"\n",
    "\n",
    "# Wednesday 30.11. - dolní peak - před 13:00 vypadl buď systém, anebo bot sbírající data\n",
    "# Tuesday 21.3. - dolní peak - před 12:00 vypadl buď systém, anebo bot sbírající data\n",
    "# Tuesday 10. měsíc Troja - nefungovala elektřina\n",
    "# Friday 18.11. - den po volnu 17.11.\n",
    "# Monday 2.1. - nebyla škola\n",
    "\n",
    "\n",
    "# Právnická označovala available počet meals jako -1 během většiny roku"
   ],
   "metadata": {
    "collapsed": false,
    "ExecuteTime": {
     "end_time": "2023-05-30T07:05:34.286791500Z",
     "start_time": "2023-05-30T07:05:34.237456Z"
    }
   }
  }
 ],
 "metadata": {
  "kernelspec": {
   "display_name": "Python 3",
   "language": "python",
   "name": "python3"
  },
  "language_info": {
   "codemirror_mode": {
    "name": "ipython",
    "version": 2
   },
   "file_extension": ".py",
   "mimetype": "text/x-python",
   "name": "python",
   "nbconvert_exporter": "python",
   "pygments_lexer": "ipython2",
   "version": "2.7.6"
  }
 },
 "nbformat": 4,
 "nbformat_minor": 0
}
